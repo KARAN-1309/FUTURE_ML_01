{
 "cells": [
  {
   "cell_type": "code",
   "execution_count": 3,
   "id": "e3a93054",
   "metadata": {},
   "outputs": [
    {
     "name": "stderr",
     "output_type": "stream",
     "text": [
      "16:31:06 - cmdstanpy - INFO - Chain [1] start processing\n",
      "16:31:06 - cmdstanpy - INFO - Chain [1] done processing\n",
      "16:31:06 - cmdstanpy - INFO - Chain [1] start processing\n",
      "16:31:07 - cmdstanpy - INFO - Chain [1] done processing\n",
      "16:31:07 - cmdstanpy - INFO - Chain [1] start processing\n",
      "16:31:07 - cmdstanpy - INFO - Chain [1] done processing\n"
     ]
    },
    {
     "name": "stdout",
     "output_type": "stream",
     "text": [
      "Combined historical + forecast data saved to 'superstore_historical_plus_forecast.csv'\n"
     ]
    }
   ],
   "source": [
    "import pandas as pd\n",
    "from prophet import Prophet\n",
    "import numpy as np\n",
    "\n",
    "df = pd.read_csv('Sample_Superstore.csv', encoding='ISO-8859-1')\n",
    "df['Order Date'] = pd.to_datetime(df['Order Date'])\n",
    "\n",
    "forecast_days = 30\n",
    "last_actual_date = df['Order Date'].max()\n",
    "\n",
    "metrics = ['Sales', 'Profit', 'Quantity']\n",
    "all_forecasts = []\n",
    "\n",
    "for metric in metrics:\n",
    "    daily = df.groupby('Order Date')[metric].sum().reset_index()\n",
    "    daily.columns = ['ds', 'y']\n",
    "\n",
    "    model = Prophet()\n",
    "    model.fit(daily)\n",
    "\n",
    "    future = model.make_future_dataframe(periods=forecast_days)\n",
    "    forecast = model.predict(future)\n",
    "\n",
    "    forecast_future = forecast[forecast['ds'] > last_actual_date]\n",
    "    metric_df = forecast_future[['ds', 'yhat']].copy()\n",
    "    metric_df['Metric'] = metric\n",
    "    metric_df['yhat'] = metric_df['yhat'].round(2)\n",
    "\n",
    "    all_forecasts.append(metric_df)\n",
    "\n",
    "combined = pd.concat(all_forecasts, ignore_index=True)\n",
    "forecast_data = combined.pivot(index='ds', columns='Metric', values='yhat').reset_index()\n",
    "forecast_data.fillna(0, inplace=True)\n",
    "\n",
    "forecast_formatted = pd.DataFrame({\n",
    "    'Row ID': range(1, len(forecast_data)+1),\n",
    "    'Order ID': ['FORECAST'] * len(forecast_data),\n",
    "    'Order Date': forecast_data['ds'],\n",
    "    'Ship Date': forecast_data['ds'] + pd.Timedelta(days=3),\n",
    "    'Ship Mode': ['Forecast'] * len(forecast_data),\n",
    "    'Customer ID': ['Forecast'] * len(forecast_data),\n",
    "    'Customer Name': ['Forecast'] * len(forecast_data),\n",
    "    'Segment': ['Forecast'] * len(forecast_data),\n",
    "    'Country': ['United States'] * len(forecast_data),\n",
    "    'City': ['Forecast'] * len(forecast_data),\n",
    "    'State': ['Forecast'] * len(forecast_data),\n",
    "    'Postal Code': [0] * len(forecast_data),\n",
    "    'Region': ['Forecast'] * len(forecast_data),\n",
    "    'Product ID': ['Forecast'] * len(forecast_data),\n",
    "    'Category': ['Forecast'] * len(forecast_data),\n",
    "    'Sub-Category': ['Forecast'] * len(forecast_data),\n",
    "    'Product Name': ['Forecasted Data'] * len(forecast_data),\n",
    "    'Sales': forecast_data.get('Sales', 0),\n",
    "    'Quantity': forecast_data.get('Quantity', 0),\n",
    "    'Discount': [0.0] * len(forecast_data),\n",
    "    'Profit': forecast_data.get('Profit', 0)\n",
    "})\n",
    "\n",
    "historical_columns = forecast_formatted.columns\n",
    "historical_formatted = df.copy()\n",
    "historical_formatted = historical_formatted.reindex(columns=historical_columns, fill_value=0)\n",
    "\n",
    "combined_data = pd.concat([historical_formatted, forecast_formatted], ignore_index=True)\n",
    "\n",
    "combined_data.to_csv('superstore_historical_plus_forecast.csv', index=False)\n",
    "print(\"Combined historical + forecast data saved to 'superstore_historical_plus_forecast.csv'\")\n"
   ]
  }
 ],
 "metadata": {
  "kernelspec": {
   "display_name": "Python 3",
   "language": "python",
   "name": "python3"
  },
  "language_info": {
   "codemirror_mode": {
    "name": "ipython",
    "version": 3
   },
   "file_extension": ".py",
   "mimetype": "text/x-python",
   "name": "python",
   "nbconvert_exporter": "python",
   "pygments_lexer": "ipython3",
   "version": "3.11.9"
  }
 },
 "nbformat": 4,
 "nbformat_minor": 5
}
